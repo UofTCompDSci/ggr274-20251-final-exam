{
 "cells": [
  {
   "cell_type": "markdown",
   "id": "c52f8f2e",
   "metadata": {},
   "source": [
    "<div style=\"text-align: center\">\n",
    "\n",
    "**UNIVERSITY OF TORONTO**\n",
    "\n",
    "**Faculty of Arts & Science**\n",
    "\n",
    "**WINTER 2025 EXAMINATIONS (April 21, 2025)**\n",
    "\n",
    "**GGR274H1S - Introductory Computation and Data Science for the Social Sciences**\n",
    "\n",
    "**Duration**: 3 hours\n",
    "\n",
    "**Aids Allowed**: You have access to the GGR274 Course Website, JupyterHub, and MarkUs. You may not consult any other references.\n",
    "\n",
    "</div>\n",
    "\n",
    "## Exam Reminders\n",
    "\n",
    "- As a student, you help create a fair and inclusive writing environment. If you possess an unauthorized aid during an exam, you may be charged with an academic offence.\n",
    "- Turn off and place all cell phones, smart watches, electronic devices, and unauthorized study materials in your bag under your desk. If it is left in your pocket, it may be an academic offence.\n",
    "- When you are done your exam, download the file and submit it to [MarkUs](https://markus.teach.cs.toronto.edu/markus/main/login_remote_auth) under the `final-exam` assignment. We have included submission instructions at the bottom of this notebook (same as past course work).\n",
    "    - **Note**: *Please give yourself at least 10 minutes to submit the final exam on time.*\n",
    "- All answers should be written in the provided cells in this notebook. You will *only* submit this notebook on MarkUs.\n",
    "\n",
    "## Quick Links\n",
    "\n",
    "- [GGR274 Course Website](https://uoftcompdsci.github.io/ggr274-20251/jupyter-book/index.html)\n",
    "- [MarkUs](https://markus.teach.cs.toronto.edu/markus/main/login_remote_auth)\n",
    "- [JupyterHub](https://jupyter.utoronto.ca)\n",
    "\n",
    "\n",
    "## Marking Rubric\n",
    "\n",
    "Most of your Python code will be evaluated using autograding.\n",
    "\n",
    "Other Python code (e.g., plotting) and written responses will be graded by TAs.\n",
    "\n",
    "__The total number of marks for this test is 70.__"
   ]
  },
  {
   "cell_type": "markdown",
   "id": "2a7f1f7b",
   "metadata": {},
   "source": [
    "## Questions\n",
    "\n",
    "Below is an outline of the questions that you will answer in this final exam.  \n",
    "\n",
    "For your convenience you can keep track of which questions you have answered by ticking off the boxes by adding an `x` in between the square brackets `[  ]`.\n",
    "\n",
    "```\n",
    "- [ ] \n",
    "- [x] \n",
    "```\n",
    "The above Markdown will render like this\n",
    "\n",
    "- [ ] \n",
    "- [x] \n",
    "\n",
    " <mark> **Check marks are not required for full marks. This is to help you stay organized during the test, but please feel free to ignore this if you wish.** </mark>\n",
    " \n",
    "\n",
    "## List of Questions in this Test\n",
    "\n",
    "Below are hyperlinks to individual test questions. A hyperlink back to this section is provided at the end of most questions. \n",
    " \n",
    "[Part 1: Python Programming](#Part-1:-Python-Programming) (__15 marks__)\n",
    "\n",
    "- [ ] [Q1.1](#Q1.1) (__3 mark__)\n",
    "- [ ] [Q1.2](#Q1.2) (__6 marks__)\n",
    "- [ ] [Q1.3](#Q1.3) (__6 marks__)\n",
    "\n",
    "[Part 2: Data Wrangling and Exploration](#Part-2:-Data-Wrangling-and-Exploration) (__30 marks__)\n",
    "\n",
    "- [ ] [Q2.1.1](#Q2.1.1) (__1 mark__)\n",
    "- [ ] [Q2.1.2](#Q2.1.2) (__1 mark__)\n",
    "- [ ] [Q2.1.3](#Q2.1.3) (__2 marks__)\n",
    "- [ ] [Q2.1.4](#Q2.1.4) (__3 marks__)\n",
    "- [ ] [Q2.1.5](#Q2.1.5) (__1 mark__)\n",
    "- [ ] [Q2.1.6](#Q2.1.6) (__4 marks__)\n",
    "- [ ] [Q2.2.1](#Q2.2.1) (__1 mark__)\n",
    "- [ ] [Q2.2.2](#Q2.2.2) (__2 marks__)\n",
    "- [ ] [Q2.2.3](#Q2.2.3) (__1 mark__)\n",
    "- [ ] [Q2.2.4](#Q2.2.4) (__1 mark__)\n",
    "- [ ] [Q2.2.5](#Q2.2.5) (__1 mark__)\n",
    "- [ ] [Q2.3.1](#Q2.3.1) (__1 mark__)\n",
    "- [ ] [Q2.3.2](#Q2.3.2) (__1 mark__)\n",
    "- [ ] [Q2.3.3](#Q2.3.3) (__2 marks__)\n",
    "- [ ] [Q2.4.1](#Q2.4.1) (__2 marks__)\n",
    "- [ ] [Q2.4.2](#Q2.4.2) (__1 marks__)\n",
    "- [ ] [Q2.4.3](#Q2.4.3) (__2 marks__)\n",
    "- [ ] [Q2.4.4](#Q2.4.4) (__3 marks__)\n",
    "\n",
    "[Part 3: Spatial Analysis](#Part-3:-Spatial-Analysis) (__25 marks__)\n",
    "\n",
    "- [ ] [Q3.1](#Q3.1) (__3 marks__)\n",
    "- [ ] [Q3.2](#Q3.2) (__2 marks__)\n",
    "- [ ] [Q3.3](#Q3.3) (__3 marks__)\n",
    "- [ ] [Q3.4](#Q3.4) (__1 mark__)\n",
    "- [ ] [Q3.5](#Q3.5) (__1 mark__)\n",
    "- [ ] [Q3.6](#Q3.6) (__1 marks__)\n",
    "- [ ] [Q3.7](#Q3.7) (__3 marks__)\n",
    "- [ ] [Q3.8](#Q3.8) (__2 marks__)\n",
    "- [ ] [Q3.9.1](#Q3.9.1) (__2 marks__)\n",
    "- [ ] [Q3.9.2](#Q3.9.2) (__3 marks__)\n",
    "- [ ] [Q3.9.3](#Q3.9.3) (__2 mark__)\n",
    "- [ ] [Q3.10.1](#Q3.10.1) (__2 mark__)"
   ]
  },
  {
   "cell_type": "markdown",
   "id": "90980eba",
   "metadata": {},
   "source": [
    "## Part 1: Python Programming\n",
    "\n",
    "Part 1 has 15 marks in total.\n",
    "\n",
    "In this part, you'll complete a few questions covering the basics of Python programming.\n",
    "\n",
    "Help for all the built-in Python functions are available via the `help` function.  For example, help for the function `len` is below.\n"
   ]
  },
  {
   "cell_type": "code",
   "execution_count": null,
   "id": "a7a1443c",
   "metadata": {},
   "outputs": [],
   "source": [
    "# Uncomment the line below to see help for the len function\n",
    "# help(len)"
   ]
  },
  {
   "cell_type": "markdown",
   "id": "9fd828c9",
   "metadata": {},
   "source": [
    "### Q1.1\n",
    "\n",
    "Define the `student_number` variable below to be an `int` that equals your student number.  Replace the elipses (...)."
   ]
  },
  {
   "cell_type": "code",
   "execution_count": null,
   "id": "17347134",
   "metadata": {},
   "outputs": [],
   "source": [
    "# Write your code here\n",
    "student_number = ..."
   ]
  },
  {
   "cell_type": "markdown",
   "id": "3a684c1f",
   "metadata": {},
   "source": [
    "### Q1.2\n",
    "\n",
    "You are given the following list of Canadian city names."
   ]
  },
  {
   "cell_type": "code",
   "execution_count": null,
   "id": "d870e6ab",
   "metadata": {},
   "outputs": [],
   "source": [
    "# Run the cell, but do not change it\n",
    "cities = [\n",
    "    'Barrie',\n",
    "    'Belleville',\n",
    "    'Brampton',\n",
    "    'Brant',\n",
    "    'Brantford',\n",
    "    'Brockville',\n",
    "    'Burlington',\n",
    "    'Cambridge',\n",
    "    'Clarence-Rockland',\n",
    "    'Cornwall',\n",
    "    'Dryden',\n",
    "    'Elliot Lake',\n",
    "    'Greater Sudbury',\n",
    "    'Guelph',\n",
    "    'Haldimand County',\n",
    "    'Hamilton',\n",
    "    'Kawartha Lakes',\n",
    "    'Kenora',\n",
    "    'Kingston',\n",
    "    'Kitchener',\n",
    "    'London',\n",
    "    'Markham',\n",
    "    'Mississauga',\n",
    "    'Niagara Falls',\n",
    "    'Norfolk County',\n",
    "    'North Bay',\n",
    "    'Orillia',\n",
    "    'Oshawa',\n",
    "    'Ottawa',\n",
    "    'Owen Sound',\n",
    "    'Pembroke',\n",
    "    'Peterborough',\n",
    "    'Penetanguishene',\n",
    "    'Pickering',\n",
    "    'Port Colborne',\n",
    "    'Prince Edward County',\n",
    "    'Quinte West',\n",
    "    'Richmond Hill',\n",
    "    'Sarnia',\n",
    "    'Sault Ste. Marie',\n",
    "    'St. Catharines',\n",
    "    'St. Thomas',\n",
    "    'Stratford',\n",
    "    'Temiskaming Shores',\n",
    "    'Thorold',\n",
    "    'Thunder Bay',\n",
    "    'Timmins',\n",
    "    'Toronto',\n",
    "    'Vaughan',\n",
    "    'Waterloo',\n",
    "    'Welland',\n",
    "    'Windsor',\n",
    "    'Woodstock'\n",
    "]"
   ]
  },
  {
   "cell_type": "markdown",
   "id": "47283f6a",
   "metadata": {},
   "source": [
    "a. Calculate the number of cities in the list and store it in a variable called `num_cities`."
   ]
  },
  {
   "cell_type": "code",
   "execution_count": null,
   "id": "3957f480",
   "metadata": {},
   "outputs": [],
   "source": [
    "# Write your code here\n",
    "\n",
    "\n",
    "# The following code will help you check your work\n",
    "print(num_cites)"
   ]
  },
  {
   "cell_type": "markdown",
   "id": "f482b836",
   "metadata": {},
   "source": [
    "b. Create an empty list called `city_lengths`. Using a `for` loop, iterate over `cities`, calculate the length of each city name, and append each length to `city_lengths`. Store the average length of the cities in a variable called `avg_length`. (Do not round any values)"
   ]
  },
  {
   "cell_type": "code",
   "execution_count": null,
   "id": "2f4a77ea",
   "metadata": {},
   "outputs": [],
   "source": [
    "# Write your code here\n",
    "\n",
    "\n",
    "\n",
    "# Check the results\n",
    "print(city_lengths)\n",
    "print(avg_length)"
   ]
  },
  {
   "cell_type": "markdown",
   "id": "3cf011e2",
   "metadata": {},
   "source": [
    "c. Store in a variable called `num_t` the number of cities that start with `T`."
   ]
  },
  {
   "cell_type": "code",
   "execution_count": null,
   "id": "32a6e6ec",
   "metadata": {},
   "outputs": [],
   "source": [
    "# Write your code here\n",
    "\n",
    "\n",
    "# Check the results\n",
    "print(num_t) "
   ]
  },
  {
   "cell_type": "markdown",
   "id": "b85a651c",
   "metadata": {},
   "source": [
    "### Q1.3\n",
    "\n",
    "a. Define the term **conditional expression** (or **conditional statement**) in Python. Explain how a conditional expression is used and give an example of one."
   ]
  },
  {
   "cell_type": "markdown",
   "id": "0ba0665a",
   "metadata": {},
   "source": [
    "*Write your answer here.*"
   ]
  },
  {
   "cell_type": "markdown",
   "id": "327195cb",
   "metadata": {},
   "source": [
    "b. Write an example of an **f-string** in the code cell below. You may write other code for your example, but clearly indicate (with a comment) what part of your code is the f-string."
   ]
  },
  {
   "cell_type": "code",
   "execution_count": null,
   "id": "8b9092ed",
   "metadata": {},
   "outputs": [],
   "source": [
    "# Write your example here\n"
   ]
  },
  {
   "cell_type": "markdown",
   "id": "f42f0e1d",
   "metadata": {},
   "source": [
    "c. You are given the following code cell."
   ]
  },
  {
   "cell_type": "code",
   "execution_count": null,
   "id": "b5064286",
   "metadata": {},
   "outputs": [],
   "source": [
    "# Run the cell, but do not change it\n",
    "mystery = {}\n",
    "\n",
    "for name in ['Michael', 'Chunjiang', 'Karen']:\n",
    "    mystery[name] = name.count('a') + name.count('i')\n",
    "\n",
    "mystery"
   ]
  },
  {
   "cell_type": "markdown",
   "id": "e577b332",
   "metadata": {},
   "source": [
    "Answer the following two questions:\n",
    "\n",
    "1. What is the data type of `mystery`?\n",
    "2. Describe in English what the above code cell is computing."
   ]
  },
  {
   "cell_type": "markdown",
   "id": "4e3889c5",
   "metadata": {},
   "source": [
    "*Write your answer here.*"
   ]
  },
  {
   "cell_type": "markdown",
   "id": "27c2a6a3",
   "metadata": {},
   "source": [
    "## Part 2: Data Wrangling and Exploration\n",
    "\n",
    "Part 2 has 30 marks in total.\n",
    "\n",
    "To begin, run the following cell, which imports the Python libraries you'll need for the rest of this exam."
   ]
  },
  {
   "cell_type": "code",
   "execution_count": null,
   "id": "3921b678",
   "metadata": {},
   "outputs": [],
   "source": [
    "import esda\n",
    "import geopandas as gpd\n",
    "import libpysal as lps\n",
    "import matplotlib.pyplot as plt\n",
    "import numpy as np\n",
    "import pandas as pd\n",
    "import splot.esda\n",
    "\n",
    "from statsmodels.formula.api import ols"
   ]
  },
  {
   "cell_type": "markdown",
   "id": "d9961b8c",
   "metadata": {},
   "source": [
    "**Reminder:** The `help` function is also available for almost all of the functions we have used in the libraries above.  For example, here is how to get help on the pandas function `read_excel`."
   ]
  },
  {
   "cell_type": "code",
   "execution_count": null,
   "id": "689c2aea",
   "metadata": {},
   "outputs": [],
   "source": [
    "# Uncomment to see help on pd.read_excel\n",
    "# help(pd.read_excel)"
   ]
  },
  {
   "cell_type": "markdown",
   "id": "5e7ab46c",
   "metadata": {},
   "source": [
    "### Q2.1.1\n",
    "\n",
    "Data on children and youth Emergency Department (ED) visits related to mental health and addiction in Toronto neighbourhoods are in the Excel file `ChildrenAndYouth_neighb_2015_LHIN.xls` in the sheet `CAY_MentalHealth_Addiction_EDv`. The data include \n",
    "\n",
    "+  the total number of visits by sex and by neighbourhood from 2012/13 to 2014/15 (3 years); and\n",
    "+  the total population by sex and by neighbourhood as of 2011\n",
    "\n",
    "for young adults of age between 16 and 25.\n",
    "\n",
    "Complete the code cell below by filling in the blanks (`...`) to read in the data into a pandas `DataFrame` and store it in the variable `cay_raw_df`."
   ]
  },
  {
   "cell_type": "code",
   "execution_count": null,
   "id": "f01eb561",
   "metadata": {},
   "outputs": [],
   "source": [
    "# Write your code here\n",
    "cay_file_name = ...\n",
    "\n",
    "cay_injury_sheet_name = ...\n",
    "\n",
    "cay_raw_df = pd.read_excel(\n",
    "    ..., \n",
    "    ..., \n",
    "    header=12) \n",
    "\n",
    "# Display the first few rows of the resulting DataFrame\n",
    "cay_raw_df.head()"
   ]
  },
  {
   "cell_type": "markdown",
   "id": "fdf15068",
   "metadata": {},
   "source": [
    "### Q2.1.2\n",
    "\n",
    "Create a subset of `cay_raw_df` with columns stored in `important_columns` as defined below. Store the subset in a `DataFrame` named `cay_raw_subset`."
   ]
  },
  {
   "cell_type": "code",
   "execution_count": null,
   "id": "3faa111c",
   "metadata": {},
   "outputs": [],
   "source": [
    "important_columns = cay_raw_df.columns[[\n",
    "    0,  # this column is the neighbourhood ID\n",
    "    1,  # this column is the neighbourhood name\n",
    "    2,  # this column is the 3-year ED visit counts for males\n",
    "    3,  # this column is the 3-year ED visit counts for females \n",
    "    5,  # this column is the total population of males as of 2011\n",
    "    6]] # this column is the total population of females as of 2011\n",
    "\n",
    "# Write you code here\n",
    "cay_raw_subset = ...\n",
    "# Check the result\n",
    "cay_raw_subset.head()"
   ]
  },
  {
   "cell_type": "markdown",
   "id": "f7c6bc99",
   "metadata": {},
   "source": [
    "### Q2.1.3\n",
    "\n",
    "Next, you will rename column names in `important_columns` to the following (in order of the column names in `important_columns`):\n",
    "\n",
    "- Neighbourhood ID\n",
    "- Neighbourhood Name\n",
    "- ED Visit Count, Male\n",
    "- ED Visit Count, Female\n",
    "- Population, Male\n",
    "- Population, Female\n",
    "\n",
    "Create a dictionary called `new_column_names` that maps the column names in `important_columns` of `cay_raw_subset` to the column names above.  Store the `DataFrame` with the new column names in `cay_renamed_df`.\n",
    "\n",
    "_Hint: Use the list `important_columns` to retrieve the column names of `cay_raw_subset`._\n",
    "\n",
    "**(2 marks)**"
   ]
  },
  {
   "cell_type": "code",
   "execution_count": null,
   "id": "a75d49ab",
   "metadata": {},
   "outputs": [],
   "source": [
    "# Write you code here\n",
    "\n",
    "\n",
    "# Check the result\n",
    "cay_renamed_df.head()"
   ]
  },
  {
   "cell_type": "markdown",
   "id": "9860d2cf",
   "metadata": {},
   "source": [
    "### Q2.1.4\n",
    "\n",
    "Run the following code to select the rows with neighbourhood records only and store the result in `cay_count_df`."
   ]
  },
  {
   "cell_type": "code",
   "execution_count": null,
   "id": "10fbf294",
   "metadata": {},
   "outputs": [],
   "source": [
    "# Run this code. You may not change the provided code.\n",
    "cay_count_df = cay_renamed_df.iloc[0:140, 0:6]\n",
    "# Check the result\n",
    "cay_count_df"
   ]
  },
  {
   "cell_type": "markdown",
   "id": "2309af8b",
   "metadata": {},
   "source": [
    "**Task:** Complete the code cell below by filling the blanks (`...`) to compute the _average annual rate of ED visits per 1,000_ using the following formula:\n",
    "\n",
    "$$\\frac{\\text{3-year ED Visit Counts} / 3\\text{ years}}{\\text{Total Population}}\\times 1000$$\n",
    "\n",
    "by sex and by neighbourhood, and store it in columns named `ED Visit Rate, Male` and `ED Visit Rate, Female` for each sex respectively, inside `cay_rate_df`."
   ]
  },
  {
   "cell_type": "code",
   "execution_count": null,
   "id": "6ddf2972",
   "metadata": {},
   "outputs": [],
   "source": [
    "cay_rate_df = cay_count_df.copy()\n",
    "# Write your code here\n",
    "cay_rate_df[...] = (\n",
    "    cay_rate_df[...] / 3) / cay_rate_df[...] * 1000\n",
    "cay_rate_df[...] = (\n",
    "    cay_rate_df[...] / 3) / cay_rate_df[...] * 1000\n",
    "\n",
    "# Check the result\n",
    "cay_rate_df.head()"
   ]
  },
  {
   "cell_type": "markdown",
   "id": "6fc280fb",
   "metadata": {},
   "source": [
    "**Task:** Describe the distributions of the annual average rates of ED visits for each sex in `cay_rate_df` using the `DataFrame.describe()` method.  Store the result in a variable called `dist_descriptions`. "
   ]
  },
  {
   "cell_type": "code",
   "execution_count": null,
   "id": "c4841650",
   "metadata": {},
   "outputs": [],
   "source": [
    "# Write your code here\n",
    "\n",
    "# Check the results\n",
    "dist_descriptions"
   ]
  },
  {
   "cell_type": "markdown",
   "id": "6bf479e1",
   "metadata": {},
   "source": [
    "**Task:** We have provided code to define `dist_descriptions2` using `dist_descriptions` from the previous cell. Using `dist_descriptions2`, compute the inter-quartile ranges (IQR) for each sex (as a `Series` of numbers), and store the results in a variable called `dist_iqr`.\n",
    "\n",
    "Recall that IQR is defined as the difference of third quartile minus first quartile."
   ]
  },
  {
   "cell_type": "code",
   "execution_count": null,
   "id": "4dc6260f",
   "metadata": {},
   "outputs": [],
   "source": [
    "# This code is provided for you; please do not modify it.\n",
    "dist_descriptions2 = dist_descriptions.transpose()\n",
    "dist_descriptions2"
   ]
  },
  {
   "cell_type": "code",
   "execution_count": null,
   "id": "92e364bb",
   "metadata": {},
   "outputs": [],
   "source": [
    "# Write your code here\n",
    "\n",
    "\n",
    "# Check the results\n",
    "dist_iqr"
   ]
  },
  {
   "cell_type": "markdown",
   "id": "992571d8",
   "metadata": {},
   "source": [
    "**Question:** Which sex's average ED visit rate has larger variability based on the result from above? Briefly explain. **(1 mark)**"
   ]
  },
  {
   "cell_type": "markdown",
   "id": "88f65fd3",
   "metadata": {},
   "source": [
    "> *Write your answer here.*\n",
    "> \n",
    "> "
   ]
  },
  {
   "cell_type": "markdown",
   "id": "3e969a1f",
   "metadata": {},
   "source": [
    "### Q2.1.5\n",
    "\n",
    "Create side-by-side boxplots of the distributions of the annual average ED visit rates related to mental health and addiction for each sex in `cay_rate_df` using the `DataFrame.boxplot()` method.  Plot the boxplots horizontally using `vert=False` argument inside the method. \n",
    "\n",
    "_You do *not* need to store the result in a variable._\n",
    "\n",
    "**(1 mark)**"
   ]
  },
  {
   "cell_type": "code",
   "execution_count": null,
   "id": "abc4effb",
   "metadata": {},
   "outputs": [],
   "source": [
    "# Write your code here\n",
    "\n",
    "\n",
    "# Keep the code below after your plotting code. \n",
    "plt.show();"
   ]
  },
  {
   "cell_type": "markdown",
   "id": "45922959",
   "metadata": {},
   "source": [
    "### Q2.1.6\n",
    "\n",
    "i) Which sex has higher **maximum** average annual ED visit rate? That is, is the highest average annual ED visit rate in the data set for female or male? Justify your answer based on the results from previous questions. **(2 marks)**"
   ]
  },
  {
   "cell_type": "markdown",
   "id": "dce1c9a4",
   "metadata": {},
   "source": [
    "> Write your answer here.\n",
    ">"
   ]
  },
  {
   "cell_type": "markdown",
   "id": "5c2fc604",
   "metadata": {},
   "source": [
    "ii) What is the name of the neighbourhood with the highest average annual ED visit rate for male? What is it for female? You are welcome to use the code cell below to help you answer this question and refer to it in your text answer. **(2 marks)**\n",
    "\n",
    " _**Hint:** You can isolate the neighbourhood with the largest ED visit rate, say $x$ by filtering those with rates higher than $x$ minus a smaller number._"
   ]
  },
  {
   "cell_type": "markdown",
   "id": "146fd86c",
   "metadata": {},
   "source": [
    "> Write your answer here.\n",
    ">"
   ]
  },
  {
   "cell_type": "code",
   "execution_count": null,
   "id": "d6232383",
   "metadata": {},
   "outputs": [],
   "source": [
    "# Optional: Write your helper code here\n"
   ]
  },
  {
   "cell_type": "markdown",
   "id": "8e34787b",
   "metadata": {},
   "source": [
    "### Q2.2.1\n",
    "\n",
    "`neighbourhood-profiles-2011-140-model.csv` is a csv file that contains socio-demographic data on Toronto neighbourhoods.  A brief description of the data from the City of Toronto is:\n",
    "\n",
    "> The Census of Population is held across Canada every 5 years and collects data about age and sex, families and households, language, immigration and internal migration, ethnocultural diversity, Aboriginal peoples, housing, education, income, and labour. City of Toronto Neighbourhood Profiles use this Census data to provide a portrait of the demographic, social and economic characteristics of the people and households in each City of Toronto neighbourhood. The profiles present selected highlights from the data, but these accompanying data files provide the full data set assembled for each neighbourhood.\n",
    "\n",
    "\n",
    "**Task:**  Read this file into a pandas `DataFrame` called `nbhdprofiles_df`."
   ]
  },
  {
   "cell_type": "code",
   "execution_count": null,
   "id": "8cf2f897",
   "metadata": {},
   "outputs": [],
   "source": [
    "# Write your code here\n",
    "\n",
    "# Check the results\n",
    "nbhdprofiles_df.head()"
   ]
  },
  {
   "cell_type": "markdown",
   "id": "78940379",
   "metadata": {},
   "source": [
    "### Q2.2.2\n",
    "\n",
    "The pandas function `pd.melt` can be used to reshape `nbhdprofiles_df`.  The code cell below uses `melt` to reshape `nbhdprofiles_df` into `nbhdprofmelt_df`.\n",
    "\n",
    "Run the code cell below to create the variable `nbhdprofmelt_df`. You will use `nbhdprofmelt_df` to answer the questions below. **(Not graded)**"
   ]
  },
  {
   "cell_type": "code",
   "execution_count": null,
   "id": "a8f644a5",
   "metadata": {},
   "outputs": [],
   "source": [
    "# Run this cell but do not modify it\n",
    "nbhdprofmelt_df = pd.melt(\n",
    "    nbhdprofiles_df, id_vars=[\"_id\", \"Category\", \"Topic\", \"Attribute\"])\n",
    "nbhdprofmelt_df.head()"
   ]
  },
  {
   "cell_type": "markdown",
   "id": "733384bb",
   "metadata": {},
   "source": [
    "Next, you will create a new `DataFrame` that corresponds to Median After-Tax Family Income by selecting rows of `nbhdprofmelt_df` where *all* of the following conditions are true:\n",
    "\n",
    "- `Category` is equal to `\"Housing\"`\n",
    "- `Topic` is equal to `\"Shelter costs\"`\n",
    "- `Attribute` is equal to `\"  % of tenant households spending 30% or more of household total income on shelter costs\"`\n",
    "\n",
    "You will create this `DataFrame` in two parts.\n",
    "\n",
    "a) Select rows of `nbhdprofmelt_df` where\n",
    "\n",
    "- `Category` is equal to `\"Housing\"`\n",
    "- `Topic` is equal to `\"Shelter costs\"`\n",
    "\n",
    "store this `DataFrame` in a variable called `housing_df1`."
   ]
  },
  {
   "cell_type": "code",
   "execution_count": null,
   "id": "8128ff2d",
   "metadata": {},
   "outputs": [],
   "source": [
    "# Write your code here\n",
    "\n",
    "# Check the results\n",
    "housing_df1.head()"
   ]
  },
  {
   "cell_type": "markdown",
   "id": "a5d8de6f",
   "metadata": {},
   "source": [
    "b) Select rows of `housing_df1` where `Attribute` is equal to `\"  % of tenant households spending 30% or more of household total income on shelter costs\"` and store this DataFrame in `housing_df2`. \n",
    "\n",
    "_**Note**: the string value has two leading spaces, since those come with the original dataset. Make sure to include the spaces in your code!_"
   ]
  },
  {
   "cell_type": "code",
   "execution_count": null,
   "id": "b6de6458",
   "metadata": {},
   "outputs": [],
   "source": [
    "# Write your code here\n",
    "\n",
    "# Check the results\n",
    "housing_df2.head()"
   ]
  },
  {
   "cell_type": "markdown",
   "id": "7741e3d5",
   "metadata": {},
   "source": [
    "### Q2.2.3\n",
    "\n",
    "In `housing_df2` rename the `variable` column to `Neighbourhood Name` and `value` to `High Rental Cost %`. Store the renamed `DataFrame` in `housing_df3`."
   ]
  },
  {
   "cell_type": "code",
   "execution_count": null,
   "id": "51c7a839",
   "metadata": {},
   "outputs": [],
   "source": [
    "# Write your code here\n",
    "\n",
    "# Check the results\n",
    "housing_df3.head()"
   ]
  },
  {
   "cell_type": "markdown",
   "id": "ca6b14bb",
   "metadata": {},
   "source": [
    "### Q2.2.4\n",
    "\n",
    "Extract _the percentage of tenant households spending 30% or more of household total income on shelter costs_ (`\"High Rental Cost %\"`) for the neighbourhood called `\"City of Toronto\"` from `housing_df3` using `housing_df3.iloc[]` or `housing_df3.loc[]` with the appropriate row and column identifiers. Store the result in a variable called `toronto_percent_high_rental_cost`. Do not hard-code numeric value to the variable."
   ]
  },
  {
   "cell_type": "code",
   "execution_count": null,
   "id": "f177cb26",
   "metadata": {},
   "outputs": [],
   "source": [
    "# Write your code here\n",
    "\n",
    "\n",
    "# Check the results\n",
    "toronto_percent_high_rental_cost"
   ]
  },
  {
   "cell_type": "markdown",
   "id": "558bcc25",
   "metadata": {},
   "source": [
    "### Q2.2.5\n",
    "\n",
    "Remove the row of `housing_df3` that corresponds to `Neighbourhood Name` equal to `City of Toronto` and store the resulting `DataFrame` in `housing_df4`."
   ]
  },
  {
   "cell_type": "code",
   "execution_count": null,
   "id": "89742578",
   "metadata": {},
   "outputs": [],
   "source": [
    "# Write your code here\n",
    "\n",
    "# Check the results; i.e., how many rows did you remove?\n",
    "housing_df3.shape[0] - housing_df4.shape[0]"
   ]
  },
  {
   "cell_type": "markdown",
   "id": "f56d325e",
   "metadata": {},
   "source": [
    "### Q2.3.1\n",
    "\n",
    "In this part you are going to merge `cay_rate_df` from Q2.1 and `housing_df4` from Q2.2.\n",
    "\n",
    "**Task:** merge `cay_rate_df` and `housing_df4` on `Neighbourhood Name` and store the merged `DataFrame` in `cay_housing_df`."
   ]
  },
  {
   "cell_type": "code",
   "execution_count": null,
   "id": "fd3cb34f",
   "metadata": {},
   "outputs": [],
   "source": [
    "# Write your code here\n",
    "\n",
    "# Check the results\n",
    "cay_housing_df.head()"
   ]
  },
  {
   "cell_type": "markdown",
   "id": "e71dc7d7",
   "metadata": {},
   "source": [
    "### Q2.3.2\n",
    "\n",
    "Create a Boolean column in `cay_housing_df` called `Higher than City`. The value should be `True` when a neighbourhood's percentage of tenant households spending 30% or more of household total income on shelter costs is __higher than or equal to__ that of the City of Toronto (`toronto_percent_high_rental_cost`), and `False` otherwise."
   ]
  },
  {
   "cell_type": "code",
   "execution_count": null,
   "id": "b9657698",
   "metadata": {},
   "outputs": [],
   "source": [
    "# Write your code here\n",
    "\n",
    "# Check the results\n",
    "cay_housing_df[\"Higher than City\"].value_counts()"
   ]
  },
  {
   "cell_type": "markdown",
   "id": "a1a0a0d7",
   "metadata": {},
   "source": [
    "### Q2.3.3\n",
    "\n",
    "i) Compute the mean neighbourhood average annual ED visit rate related to mental health and addiction for males (`\"ED Visit Rate, Male\"`) by the neighbourhood's percentage of tenant households spending 30% or more of household total income on shelter cost being higher than or equal to the city-wide percentage (`\"Higher than City\"`) using `DataFrame.groupby()`. Store the result in `mental_ED_visits`."
   ]
  },
  {
   "cell_type": "code",
   "execution_count": null,
   "id": "6e72e43e",
   "metadata": {},
   "outputs": [],
   "source": [
    "# Write your code here\n",
    "\n",
    "# Check the results\n",
    "mental_ED_visits"
   ]
  },
  {
   "cell_type": "markdown",
   "id": "b6fc15d4",
   "metadata": {},
   "source": [
    "ii) Use `mental_ED_visits` to compute the difference in average annual ED visit rates related to mental health and addiciton for males in neighbourhoods with the perecentage of tenant households spending 30% or more of household total income on shelter cost **above or equal to** that of the City of Toronto **minus** for those with the percentage **below** the City of Toronto's percentage. Store this value in `obs_diff`."
   ]
  },
  {
   "cell_type": "code",
   "execution_count": null,
   "id": "9694cd20",
   "metadata": {},
   "outputs": [],
   "source": [
    "# Write your code here\n",
    "\n",
    "# Check the results\n",
    "obs_diff"
   ]
  },
  {
   "cell_type": "markdown",
   "id": "a8b610ad",
   "metadata": {},
   "source": [
    "### Q2.4.1\n",
    "\n",
    "_Answer and run Q1.1 if you haven't already._\n",
    "\n",
    "In this part you will assess if the observed difference in the ED visit rates might be due to chance.  \n",
    "\n",
    "Fill in blanks (`...`) so that the function `sim_mean_diff` simulates a difference in the means of the column named in `selected_column` for neighbourhoods with the perecentage of tenant households spending 30% or more of household total income on shelter cost **above or equal to** that of the City of Toronto **minus** for those with the percentage **below** the City of Toronto's percentage. \n",
    "\n",
    "**(2 marks)**"
   ]
  },
  {
   "cell_type": "code",
   "execution_count": null,
   "id": "caa65694",
   "metadata": {},
   "outputs": [],
   "source": [
    "# Change ... to the correct code. Do not modify other parts of this cell\n",
    "\n",
    "def sim_mean_diff(n, selected_column):\n",
    "    np.random.seed(int(str(student_number))) \n",
    "\n",
    "    diffs = ...\n",
    "\n",
    "    for _ in range(n):\n",
    "        shuffled = cay_housing_df[...].sample(frac=1).reset_index(drop=True)\n",
    "        mean_shuffled_below = cay_housing_df.loc[\n",
    "            shuffled == False, selected_column].mean()\n",
    "        mean_shuffled_above = cay_housing_df.loc[\n",
    "            shuffled == True, selected_column].mean()\n",
    "        shuffled_diff = ...\n",
    "        diffs.append(shuffled_diff)\n",
    "\n",
    "    return diffs"
   ]
  },
  {
   "cell_type": "markdown",
   "id": "afd74300",
   "metadata": {},
   "source": [
    "### Q2.4.2\n",
    "\n",
    "Use the `sim_mean_diff` function to simulate 1000 mean differences in average annual ED visit rates for males, between neighbourhoods above and below the percentage of tenant households spending 30% or more of household total income on shelter cost in Toronto. Store these differences in a variable called `simulated_mean_diffs`."
   ]
  },
  {
   "cell_type": "code",
   "execution_count": null,
   "id": "e327fbfd",
   "metadata": {},
   "outputs": [],
   "source": [
    "# Write your code here\n",
    "\n",
    "# Check the results\n",
    "len(simulated_mean_diffs)"
   ]
  },
  {
   "cell_type": "markdown",
   "id": "d7ee1fa0",
   "metadata": {},
   "source": [
    "### Q2.4.3\n",
    "\n",
    "In this question you will create a histogram of the simulated values you computed in the previous part.\n",
    "\n",
    "i) Fill in blanks (`...`) in the `hist()` function from `matplotlib.pyplot` to create a histogram of `simulated_mean_diffs`.  \n",
    "\n",
    "ii) Label the x-axis `\"Simulated Mean Difference in ED Visit Rates, Male\"` and the y-axis as `\"Frequency\"`.\n",
    "\n",
    "iii) Fill in blanks (`...`) to add a `steelblue` vertical line to the plot that starts at the x-value of the observed mean difference in ED visit rates among males, and another `steelblue` vertical line that starts at `-1` times the observed mean difference in ED visit rates among males.\n",
    "\n",
    "*Note*: You do not need to store the plot in a variable."
   ]
  },
  {
   "cell_type": "code",
   "execution_count": null,
   "id": "d8ec238d",
   "metadata": {},
   "outputs": [],
   "source": [
    "# i. Complete the hist() function\n",
    "plt.hist(..., color=\"grey\", edgecolor=\"white\", bins=20)\n",
    "# ii. Write your code for the labels here\n",
    "\n",
    "\n",
    "# iii. Add the vertical lines\n",
    "plt....(obs_diff, 0, 135, color=...)\n",
    "plt....(... obs_diff, 0, 135, color=...)\n",
    "# Keep the code below after your plotting code. \n",
    "plt.show();"
   ]
  },
  {
   "cell_type": "markdown",
   "id": "6e0b19f0",
   "metadata": {},
   "source": [
    "### Q2.4.4\n",
    "\n",
    "i) What is the null hypothesis that `simulated_mean_diffs` is testing? **(1 mark)**"
   ]
  },
  {
   "cell_type": "markdown",
   "id": "7ca4c354",
   "metadata": {},
   "source": [
    "> Write your answer here.\n",
    ">"
   ]
  },
  {
   "cell_type": "markdown",
   "id": "0807799c",
   "metadata": {},
   "source": [
    "ii) What information does the histogram (without the vertical lines) convey about the null hypothesis? Briefly explain what the histogram represents. **(1 mark)**"
   ]
  },
  {
   "cell_type": "markdown",
   "id": "c671dc57",
   "metadata": {},
   "source": [
    "> Write your answer here.\n",
    ">"
   ]
  },
  {
   "cell_type": "markdown",
   "id": "64ed215f",
   "metadata": {},
   "source": [
    "iii) What do you conclude about the null hypothesis?  Briefly explain whether you have evidence to support that the observed median difference is _NOT_ due to chance. **(1 mark)**"
   ]
  },
  {
   "cell_type": "markdown",
   "id": "8ae7c7ca",
   "metadata": {},
   "source": [
    "> Write your answer here.\n",
    ">"
   ]
  },
  {
   "cell_type": "markdown",
   "id": "aad6f7d0-9ed3-41f3-994d-19b64932e307",
   "metadata": {},
   "source": [
    "### Q3.1\n",
    "\n",
    "Load the geojson file `Neighbourhood_Crime_Rates_Open_Data.geojson` into Python as a `GeoDataFrame`. Store it in a variable named `toronto_crime`.\n"
   ]
  },
  {
   "cell_type": "code",
   "execution_count": null,
   "id": "ff95ea7a-23ca-4f2f-909f-6c568d437350",
   "metadata": {},
   "outputs": [],
   "source": [
    "# Write your code here\n"
   ]
  },
  {
   "cell_type": "markdown",
   "id": "bedb2f8c-b7f7-4699-acc2-c6157593b757",
   "metadata": {},
   "source": [
    "### Q3.2\n",
    "\n",
    "Describe in a sentence or two what information is contained in the column titled `geometry` in `toronto_crime`.\n",
    "\n",
    "*Hint*: use the `head()` method to inspect the contents of the `GeoDataFrame`."
   ]
  },
  {
   "cell_type": "markdown",
   "id": "c7680eed-4449-4f83-abdb-0d9e7eb59208",
   "metadata": {},
   "source": [
    "*Write your answer here.*"
   ]
  },
  {
   "cell_type": "markdown",
   "id": "f431633c-6c6b-46b5-a9bd-ad41fe1af048",
   "metadata": {},
   "source": [
    "### Q3.3\n",
    "\n",
    "Create a map with the following requirements:\n",
    "\n",
    "- Use `fig` and `axes` objects to define a \"1x1\" map with a `figsize=(12, 12)`\n",
    "- Shows the autovehicle stolen rate for 2024 by neighbourhood classified using 5 quantiles\n",
    "    - *Note*: the autovehicle stolen rate for 2024 is stored in the column `AUTOTHEFT_RATE_2024`\n",
    "- Add an `edgecolor` that is `grey`\n",
    "- Includes a legend with `legend_kwds={'loc': 4, 'title': 'Auto Theft Rate 2024', 'title_fontsize': 16, 'fontsize': 12}`\n",
    "- Uses a `cmap` of `Greys`\n",
    "\n",
    "Store the map in a variable called `my_q5_map`."
   ]
  },
  {
   "cell_type": "code",
   "execution_count": null,
   "id": "50c6ad07-17c7-4eb2-8d18-4e7358200871",
   "metadata": {},
   "outputs": [],
   "source": [
    "# Write your code here\n"
   ]
  },
  {
   "cell_type": "markdown",
   "id": "0c01ef43-6fd8-4bae-af65-58b14f11a6ce",
   "metadata": {},
   "source": [
    "### Q3.4\n",
    "\n",
    "If you wanted to add a second map below this map, what steps would you need to take?"
   ]
  },
  {
   "cell_type": "markdown",
   "id": "25dbe37f-dfd8-4a9d-9c0a-814d332cffac",
   "metadata": {},
   "source": [
    "*Write your answer here.*"
   ]
  },
  {
   "cell_type": "markdown",
   "id": "3ead75c6-9d01-4098-a6e9-c35415b2de26",
   "metadata": {},
   "source": [
    "### Q3.5\n",
    "\n",
    "Briefly explain what the following code does."
   ]
  },
  {
   "cell_type": "code",
   "execution_count": null,
   "id": "1433a13e-7fd0-4b09-acb7-de88df22ac24",
   "metadata": {},
   "outputs": [],
   "source": [
    "# Run this code cell, but do NOT modify it.\n",
    "w = lps.weights.Queen.from_dataframe(toronto_crime, use_index=False)\n",
    "w.transform = 'R'"
   ]
  },
  {
   "cell_type": "markdown",
   "id": "9dbfb7c7-5d25-4a8e-a67a-74fb50dc88d1",
   "metadata": {},
   "source": [
    "*Write your answer here.*"
   ]
  },
  {
   "cell_type": "markdown",
   "id": "ffc3d1c4-7ed6-48a6-b556-48661542a1bd",
   "metadata": {},
   "source": [
    "### Q3.6\n",
    "\n",
    "How many neighbourhoods have 6 neighbours? (You can run some code to help you answer this question.)"
   ]
  },
  {
   "cell_type": "markdown",
   "id": "04d3ec95-b6ca-48fc-bd46-d1a984ab22f5",
   "metadata": {},
   "source": [
    "*Write your answer here.*"
   ]
  },
  {
   "cell_type": "markdown",
   "id": "2a7b7088-2de8-43d8-bea9-3ae3f2e79f7b",
   "metadata": {},
   "source": [
    "### Q3.7\n",
    "\n",
    "The below code calculates the Moran's I statistic for auto theft rate in Toronto in 2024.\n",
    "Interpret the Moran's I value and p-value displayed when the cell is run."
   ]
  },
  {
   "cell_type": "code",
   "execution_count": null,
   "id": "6564862a-6c9c-4e35-be4e-60224f715ac9",
   "metadata": {},
   "outputs": [],
   "source": [
    "# Run this code but do not modify it\n",
    "\n",
    "mi = esda.Moran(toronto_crime['AUTOTHEFT_RATE_2024'], w)\n",
    "\n",
    "print(f\"The Moran's I value is: {mi.I}\")\n",
    "print(f\"The p-value of this Moran's I value is: {mi.p_sim}\")"
   ]
  },
  {
   "cell_type": "markdown",
   "id": "fd39fc53-b85c-43f5-8251-4177c4c1d4e9",
   "metadata": {},
   "source": [
    "*Write your answer here.*"
   ]
  },
  {
   "cell_type": "markdown",
   "id": "a21c606f-5461-4f76-b455-e67874cd47cd",
   "metadata": {},
   "source": [
    "### Q3.8\n",
    "\n",
    "The below code calculates the local indicators of spatial autocorrelation (LISA) statistic. \n",
    "\n",
    "In the Moran Local Scatterplot, how would you describe the spatial context of neighbourhoods with points in the upper right quadrant (quadrant 1)?"
   ]
  },
  {
   "cell_type": "code",
   "execution_count": null,
   "id": "972ea241-d945-4cfc-85b6-310caa8ea53e",
   "metadata": {},
   "outputs": [],
   "source": [
    "# Run this cell but do not modify it\n",
    "\n",
    "lisa = esda.Moran_Local(toronto_crime['AUTOTHEFT_RATE_2024'], w)\n",
    "splot.esda.plot_local_autocorrelation(lisa, toronto_crime, 'AUTOTHEFT_RATE_2024')\n",
    "\n",
    "plt.show()"
   ]
  },
  {
   "cell_type": "markdown",
   "id": "2241da4e-e146-4a38-b572-a40570a61921",
   "metadata": {},
   "source": [
    "*Write your answer here.*"
   ]
  },
  {
   "cell_type": "markdown",
   "id": "c05411f5-a798-454b-9532-b116b0956c8c",
   "metadata": {},
   "source": [
    "### Q3.9\n",
    "\n",
    "Finally, the police wants to identify some influential factors of auto theft rate in Toronto.\n",
    "\n",
    "They have joined the sociodemographic data and estimated a regression model using neighborhood low income rate and immigration rate as independent variables. You're assigned with the following questions.\n"
   ]
  },
  {
   "cell_type": "markdown",
   "id": "00001813-749a-4812-80dd-978b265f130f",
   "metadata": {},
   "source": [
    "#### Q3.9.1\n",
    "\n",
    "Please write two hypothese for the relationships of auto theft rates with the variables of low income rates and immigration rates, respectively."
   ]
  },
  {
   "cell_type": "markdown",
   "id": "29ac9509-36fa-4e21-a3f9-8b09fa886302",
   "metadata": {},
   "source": [
    "*Write your answer here.*"
   ]
  },
  {
   "cell_type": "markdown",
   "id": "f76c8ecf-d6eb-4472-8c94-0c6d4605f079",
   "metadata": {},
   "source": [
    "#### Q3.9.2\n",
    "\n",
    "Now the analyst has created, fitted, and stored the regression model in `regmod_fit`.\n",
    "\n",
    "Please run the following code and inspect the summary table to answer this question:\n",
    "\n",
    "What are the values of $a$, $b_1$, and $b_2$ in the regression equation that was calculated?\n",
    "\n",
    "$$\n",
    "\\text{AUTOTHEFT\\_2024} = a + b_1 \\times \\text{Low\\_income\\_rate} + b_2 \\times \\text{Immigrantion\\_rate}\n",
    "$$"
   ]
  },
  {
   "cell_type": "code",
   "execution_count": null,
   "id": "6885d8c2-9ec7-43ea-a619-be04dd336f01",
   "metadata": {},
   "outputs": [],
   "source": [
    "# Run this cell but do not modify it\n",
    "\n",
    "ses = pd.read_excel(\"Toronto_Additional_SES.xlsx\", sheet_name=\"Sheet1\")\n",
    "ses = ses.rename(columns={'Neighbourhood Name': 'AREA_NAME'})\n",
    "toronto_crime_ses = toronto_crime.merge(ses, on='AREA_NAME')\n",
    "regmod_fit = ols('AUTOTHEFT_2024 ~ Low_income_rate + Immigrantion_rate', data=toronto_crime_ses).fit()\n",
    "regmod_fit.summary().tables[1]"
   ]
  },
  {
   "cell_type": "markdown",
   "id": "06549578-8ee5-4faf-8c9a-b6d9d27870f9",
   "metadata": {},
   "source": [
    "*Write your answer here.*"
   ]
  },
  {
   "cell_type": "markdown",
   "id": "481c5afc-53dc-4678-8e5b-3efc3874242e",
   "metadata": {},
   "source": [
    "#### Q3.9.3\n",
    "\n",
    "According to the model, how you can conclude the finding of the factor *immigration_rate*?"
   ]
  },
  {
   "cell_type": "markdown",
   "id": "b93f9b63-40ca-423b-bba8-f0b3d6f58176",
   "metadata": {},
   "source": [
    "*Write your answer here*"
   ]
  },
  {
   "cell_type": "markdown",
   "id": "18fd5bd2-232d-4bd7-8e21-930fef20210f",
   "metadata": {},
   "source": [
    "### Q3.10\n",
    "\n",
    "Finally, Toronto police wants to know more about the levels of auto theft rate across Toronto neighbourhoods.\n",
    "\n",
    "Consider the function `stat_function` defined in the code cell below."
   ]
  },
  {
   "cell_type": "code",
   "execution_count": null,
   "id": "96f6737f-752a-4467-b2b6-a9eb8cebbd22",
   "metadata": {},
   "outputs": [],
   "source": [
    "# Run this cell but do not modify it\n",
    "def stat_function(data):\n",
    "    \n",
    "    np.random.seed(int(str(student_number)[-3::]))\n",
    "\n",
    "    list_of_nums = []\n",
    "    \n",
    "    for _ in range(3000):\n",
    "        y = data.sample(frac=1, replace=True).mean()\n",
    "        list_of_nums.append(y)\n",
    "    \n",
    "    p = plt.hist(list_of_nums, bins=20)\n",
    "    \n",
    "    plt.show(p)\n",
    "\n",
    "    A = np.percentile(list_of_nums, 5.0)\n",
    "\n",
    "    B = np.percentile(list_of_nums, 95.0)\n",
    "\n",
    "    print(f'A is equal to {A} and B is equal to {B}')\n",
    "\n",
    "    return A, B"
   ]
  },
  {
   "cell_type": "markdown",
   "id": "dfcfbb76-bc62-41ff-97aa-24a3b8558180",
   "metadata": {},
   "source": [
    "#### Q3.10.1\n",
    "\n",
    "Please run the following code and answer the questions below using the output.\n",
    "\n",
    "1) What is represented in the histogram?\n",
    "\n",
    "2) Give a brief interpretation of the values of `A` and `B` defined inside the `stat_function` code. Briefly explain your reasoning."
   ]
  },
  {
   "cell_type": "code",
   "execution_count": null,
   "id": "594c06f4-08a6-4fc9-b473-7664c200e540",
   "metadata": {},
   "outputs": [],
   "source": [
    "# Run this cell but do not modify it\n",
    "\n",
    "stat_function_result = stat_function(toronto_crime['AUTOTHEFT_RATE_2024'])"
   ]
  },
  {
   "cell_type": "markdown",
   "id": "a3cf6a84-04f9-45fb-b1fb-92f6c6ff12de",
   "metadata": {},
   "source": [
    "*Write your answer here.*"
   ]
  },
  {
   "cell_type": "markdown",
   "id": "71e8d4f1-5273-4d82-b6c4-182b5b33538a",
   "metadata": {},
   "source": [
    "## How to Submit the Final Exam\n",
    "\n",
    "1. Download this notebook to your computer and save it as `ggr274_final_exam.ipynb`.\n",
    "2. Log in here: https://markus.teach.cs.toronto.edu/markus/main/login_remote_auth..\n",
    "3. Submit the downloaded file to `final-exam: Final Exam`.\n",
    "    You do *not* need to submit the any of the dataset files.\n",
    "\n",
    "**Note**: MarkUs will accept multiple submissions, so if you have submitted early and would like to make changes and resubmit *before the exam's end time*, you absolutely can! Please note that we'll only consider your lastest submission."
   ]
  }
 ],
 "metadata": {
  "jupytext": {
   "formats": "ipynb,md:myst"
  },
  "kernelspec": {
   "display_name": "Python 3 (ipykernel)",
   "language": "python",
   "name": "python3"
  },
  "language_info": {
   "codemirror_mode": {
    "name": "ipython",
    "version": 3
   },
   "file_extension": ".py",
   "mimetype": "text/x-python",
   "name": "python",
   "nbconvert_exporter": "python",
   "pygments_lexer": "ipython3",
   "version": "3.12.3"
  },
  "latex_envs": {
   "LaTeX_envs_menu_present": true,
   "autoclose": false,
   "autocomplete": false,
   "bibliofile": "biblio.bib",
   "cite_by": "apalike",
   "current_citInitial": 1,
   "eqLabelWithNumbers": true,
   "eqNumInitial": 1,
   "hotkeys": {
    "equation": "Ctrl-E",
    "itemize": "Ctrl-I"
   },
   "labels_anchors": false,
   "latex_user_defs": false,
   "report_style_numbering": false,
   "user_envs_cfg": false
  }
 },
 "nbformat": 4,
 "nbformat_minor": 5
}
