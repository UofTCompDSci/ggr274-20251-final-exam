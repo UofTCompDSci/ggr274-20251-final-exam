{
 "cells": [
  {
   "cell_type": "markdown",
   "id": "c52f8f2e",
   "metadata": {},
   "source": [
    "<div style=\"text-align: center\">\n",
    "\n",
    "**UNIVERSITY OF TORONTO**\n",
    "\n",
    "**Faculty of Arts & Science**\n",
    "\n",
    "**WINTER 2025 EXAMINATIONS (April 21, 2025)**\n",
    "\n",
    "**GGR274H1S - Introductory Computation and Data Science for the Social Sciences**\n",
    "\n",
    "**Duration**: 3 hours\n",
    "\n",
    "**Aids Allowed**: You have access to the GGR274 Course Website, JupyterHub, and MarkUs. You may not consult any other references.\n",
    "\n",
    "</div>\n",
    "\n",
    "## Exam Reminders\n",
    "\n",
    "- As a student, you help create a fair and inclusive writing environment. If you possess an unauthorized aid during an exam, you may be charged with an academic offence.\n",
    "- Turn off and place all cell phones, smart watches, electronic devices, and unauthorized study materials in your bag under your desk. If it is left in your pocket, it may be an academic offence.\n",
    "- When you are done your exam, download the file and submit it to [MarkUs](https://markus.teach.cs.toronto.edu/markus/main/login_remote_auth) under the `final-exam` assignment. We have included submission instructions at the bottom of this notebook (same as past course work).\n",
    "    - **Note**: *Please give yourself at least 10 minutes to submit the final exam on time.*\n",
    "- All answers should be written in the provided cells in this notebook. You will *only* submit this notebook on MarkUs.\n",
    "\n",
    "## Quick Links\n",
    "\n",
    "- [GGR274 Course Website](https://uoftcompdsci.github.io/ggr274-20251/jupyter-book/index.html)\n",
    "- [MarkUs](https://markus.teach.cs.toronto.edu/markus/main/login_remote_auth)\n",
    "- [JupyterHub](https://jupyter.utoronto.ca)\n",
    "\n",
    "\n",
    "## Marking Rubric\n",
    "\n",
    "Most of your Python code will be evaluated using autograding.\n",
    "\n",
    "Other Python code (e.g., plotting) and written responses will be graded by TAs.\n",
    "\n",
    "__The total number of marks for this test is 70.__"
   ]
  },
  {
   "cell_type": "markdown",
   "id": "a3cf6a84-04f9-45fb-b1fb-92f6c6ff12de",
   "metadata": {},
   "source": [
    "*Write your answer here.*"
   ]
  },
  {
   "cell_type": "code",
   "execution_count": null,
   "id": "57972cc6",
   "metadata": {},
   "outputs": [],
   "source": [
    "print(\"hello world\")"
   ]
  },
  {
   "cell_type": "markdown",
   "id": "71e8d4f1-5273-4d82-b6c4-182b5b33538a",
   "metadata": {},
   "source": [
    "## How to Submit the Final Exam\n",
    "\n",
    "1. Download this notebook to your computer and save it as `ggr274_final_exam.ipynb`.\n",
    "2. Log in here: https://markus.teach.cs.toronto.edu/markus/main/login_remote_auth..\n",
    "3. Submit the downloaded file to `final-exam: Final Exam`.\n",
    "    You do *not* need to submit the any of the dataset files.\n",
    "\n",
    "**Note**: MarkUs will accept multiple submissions, so if you have submitted early and would like to make changes and resubmit *before the exam's end time*, you absolutely can! Please note that we'll only consider your lastest submission."
   ]
  }
 ],
 "metadata": {
  "jupytext": {
   "formats": "ipynb,md:myst"
  },
  "kernelspec": {
   "display_name": "base",
   "language": "python",
   "name": "python3"
  },
  "language_info": {
   "codemirror_mode": {
    "name": "ipython",
    "version": 3
   },
   "file_extension": ".py",
   "mimetype": "text/x-python",
   "name": "python",
   "nbconvert_exporter": "python",
   "pygments_lexer": "ipython3",
   "version": "3.12.2"
  },
  "latex_envs": {
   "LaTeX_envs_menu_present": true,
   "autoclose": false,
   "autocomplete": false,
   "bibliofile": "biblio.bib",
   "cite_by": "apalike",
   "current_citInitial": 1,
   "eqLabelWithNumbers": true,
   "eqNumInitial": 1,
   "hotkeys": {
    "equation": "Ctrl-E",
    "itemize": "Ctrl-I"
   },
   "labels_anchors": false,
   "latex_user_defs": false,
   "report_style_numbering": false,
   "user_envs_cfg": false
  }
 },
 "nbformat": 4,
 "nbformat_minor": 5
}
